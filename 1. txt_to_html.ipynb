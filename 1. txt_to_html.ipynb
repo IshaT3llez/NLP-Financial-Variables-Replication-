{
 "cells": [
  {
   "cell_type": "markdown",
   "id": "308b818b-e4df-4947-9063-505f4ed5d19c",
   "metadata": {},
   "source": [
    "#### .txt to .html conversion accordingly to Hassan's pipeline"
   ]
  },
  {
   "cell_type": "code",
   "execution_count": 1,
   "id": "8ff1648c-1e00-498c-ad6f-c46897ac6736",
   "metadata": {
    "jupyter": {
     "source_hidden": true
    }
   },
   "outputs": [
    {
     "name": "stdout",
     "output_type": "stream",
     "text": [
      "All .txt files were converted to .html\n"
     ]
    }
   ],
   "source": [
    "import os\n",
    "import re\n",
    "\n",
    "# Route to .txt\n",
    "input_folder = 'call_transcripts'\n",
    "output_folder = 'test_output_html'\n",
    "os.makedirs(output_folder, exist_ok=True)\n",
    "\n",
    "for file in os.listdir(input_folder):\n",
    "    if not file.endswith('.txt'):\n",
    "        continue\n",
    "\n",
    "    with open(os.path.join(input_folder, file), 'r', encoding='utf-8') as f:\n",
    "        text = f.read()\n",
    "\n",
    "    # Extracting earning call information \n",
    "    base = file.replace('.txt', '')\n",
    "    match = re.match(r'(\\d{4}-[A-Za-z]{3}-\\d{2})-([A-Z.]+)-', base)\n",
    "    if match:\n",
    "        date_str, ticker = match.groups()\n",
    "    else:\n",
    "        date_str, ticker = 'UNKNOWN', 'UNKNOWN'\n",
    "\n",
    "    dummy_time = '12:00 PM'\n",
    "\n",
    "    # Generating .txt to HTML\n",
    "    html_text = f\"\"\"\n",
    "    <html>\n",
    "    <head><title>{file}</title></head>\n",
    "    <body>\n",
    "        <div class=\"article-content\">\n",
    "            <p><span id=\"date\">{date_str}</span></p>\n",
    "            <p><span id=\"time\">{dummy_time}</span></p>\n",
    "            <p><span class=\"ticker\">{ticker}</span></p>\n",
    "            <p>{text.replace('\\n', '</p><p>')}</p>\n",
    "        </div>\n",
    "    </body>\n",
    "    </html>\n",
    "    \"\"\"\n",
    "\n",
    "    final_name = file.replace('.txt', '.html')\n",
    "    with open(os.path.join(output_folder, final_name), 'w', encoding='utf-8') as f:\n",
    "        f.write(html_text)\n",
    "\n",
    "print(\"All .txt files were converted to .html\")\n"
   ]
  }
 ],
 "metadata": {
  "kernelspec": {
   "display_name": "Python 3 (ipykernel)",
   "language": "python",
   "name": "python3"
  },
  "language_info": {
   "codemirror_mode": {
    "name": "ipython",
    "version": 3
   },
   "file_extension": ".py",
   "mimetype": "text/x-python",
   "name": "python",
   "nbconvert_exporter": "python",
   "pygments_lexer": "ipython3",
   "version": "3.12.3"
  }
 },
 "nbformat": 4,
 "nbformat_minor": 5
}
