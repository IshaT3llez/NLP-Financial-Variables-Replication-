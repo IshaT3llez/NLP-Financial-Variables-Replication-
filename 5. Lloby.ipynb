{
 "cells": [
  {
   "cell_type": "code",
   "execution_count": 1,
   "id": "7603aed6",
   "metadata": {},
   "outputs": [],
   "source": [
    "import pandas as pd\n",
    "import re\n",
    "import numpy as np"
   ]
  },
  {
   "cell_type": "markdown",
   "id": "1d99a7ba-414d-4e7b-b40a-fdde5fdb7efc",
   "metadata": {},
   "source": [
    "#### Reading .txts"
   ]
  },
  {
   "cell_type": "code",
   "execution_count": 2,
   "id": "182ad09a",
   "metadata": {
    "collapsed": true,
    "jupyter": {
     "outputs_hidden": true,
     "source_hidden": true
    },
    "scrolled": true
   },
   "outputs": [
    {
     "name": "stdout",
     "output_type": "stream",
     "text": [
      "Columns: 32\n",
      "                                       0  \\\n",
      "0                                    NaN   \n",
      "1   82c5f661-a637-45ad-a3a6-b5ba18cf8962   \n",
      "2                                      ,   \n",
      "3         ASTRAZENECA PHARMACEUTICALS LP   \n",
      "4                                      ,   \n",
      "5            AstraZeneca Pharmaceuticals   \n",
      "6                                     ,,   \n",
      "7         ASTRAZENECA PHARMACEUTICALS LP   \n",
      "8                                      ,   \n",
      "9            AstraZeneca Pharmaceuticals   \n",
      "10                                     ,   \n",
      "11                       AstraZeneca PLC   \n",
      "12                           ,1370000.0,   \n",
      "13                                 H4300   \n",
      "14                                     ,   \n",
      "15                                 pac     \n",
      "16                                     ,   \n",
      "17                                     x   \n",
      "18                                     ,   \n",
      "19                                         \n",
      "20                                     ,   \n",
      "21                                     y   \n",
      "22                                     ,   \n",
      "23                                     y   \n",
      "24                                     ,   \n",
      "25                                  2021   \n",
      "26                                     ,   \n",
      "27                                   q4a   \n",
      "28                                     ,   \n",
      "29              FOURTH QUARTER AMENDMENT   \n",
      "30                                     ,   \n",
      "31                                   NaN   \n",
      "\n",
      "                                       1                                     2  \n",
      "0                                    NaN                                   NaN  \n",
      "1   87822a14-12de-478c-a34d-010fa503e539  87ff989d-9d12-4fef-84ef-ab69cd616894  \n",
      "2                                      ,                                     ,  \n",
      "3   WTA -- ADVOCATES FOR RURAL BROADBAND    FINANCIAL EXECUTIVES INTERNATIONAL  \n",
      "4                                      ,                                     ,  \n",
      "5    Western Telecommunications Alliance    Financial Executives International  \n",
      "6                                     ,,                                    ,,  \n",
      "7   WTA -- ADVOCATES FOR RURAL BROADBAND    FINANCIAL EXECUTIVES INTERNATIONAL  \n",
      "8                                      ,                                     ,  \n",
      "9    Western Telecommunications Alliance    Financial Executives International  \n",
      "10                                     ,                                     ,  \n",
      "11   Western Telecommunications Alliance    Financial Executives International  \n",
      "12                             ,75000.0,                             ,21650.0,  \n",
      "13                                 C4000                                 F5000  \n",
      "14                                     ,                                     ,  \n",
      "15                                 pac                                   Hvr06  \n",
      "16                                     ,                                     ,  \n",
      "17                                     p                                     p  \n",
      "18                                     ,                                     ,  \n",
      "19                                                                              \n",
      "20                                     ,                                     ,  \n",
      "21                                     y                                     y  \n",
      "22                                     ,                                     ,  \n",
      "23                                     y                                     y  \n",
      "24                                     ,                                     ,  \n",
      "25                                  2021                                  2021  \n",
      "26                                     ,                                     ,  \n",
      "27                                    q4                                    q4  \n",
      "28                                     ,                                     ,  \n",
      "29                 FOURTH QUARTER REPORT                 FOURTH QUARTER REPORT  \n",
      "30                                     ,                                     ,  \n",
      "31                                   NaN                                   NaN  \n"
     ]
    }
   ],
   "source": [
    "ruta = \"lob_lobbying.txt\"\n",
    "\n",
    "# Forcing reading by ignoring quotation marks to avoid parsing errors\n",
    "df_raw = pd.read_csv(\n",
    "    ruta,\n",
    "    sep=\"|\",\n",
    "    engine=\"python\",\n",
    "    header=None,\n",
    "    quoting=3,               \n",
    "    encoding=\"latin1\",        \n",
    "    on_bad_lines='skip'\n",
    ")\n",
    "\n",
    "# Cleaning\n",
    "df_clean = df_raw.dropna(axis=1, how=\"all\")\n",
    "df_clean = df_clean.loc[:, ~df_clean.columns.duplicated()]\n",
    "\n",
    "print(\"Columns:\", df_clean.shape[1])\n",
    "print(df_clean.head(3).T)"
   ]
  },
  {
   "cell_type": "code",
   "execution_count": 3,
   "id": "2e808fea",
   "metadata": {
    "collapsed": true,
    "jupyter": {
     "outputs_hidden": true,
     "source_hidden": true
    }
   },
   "outputs": [
    {
     "name": "stdout",
     "output_type": "stream",
     "text": [
      "                                         client_name   amount_raw  year  \\\n",
      "0                     ASTRAZENECA PHARMACEUTICALS LP  ,1370000.0,  2021   \n",
      "1               WTA -- ADVOCATES FOR RURAL BROADBAND    ,75000.0,  2021   \n",
      "2                 FINANCIAL EXECUTIVES INTERNATIONAL    ,21650.0,  2021   \n",
      "3                              WATEREUSE ASSOCIATION    ,30000.0,  2021   \n",
      "4  ACADEMY OF NUTRITION AND DIETETICS (FORMERLY A...        ,0.0,  2021   \n",
      "\n",
      "   quarter  amount_usd  \n",
      "0        4   1370000.0  \n",
      "1        4     75000.0  \n",
      "2        4     21650.0  \n",
      "3        4     30000.0  \n",
      "4        4         0.0  \n"
     ]
    },
    {
     "data": {
      "text/plain": [
       "8891"
      ]
     },
     "execution_count": 3,
     "metadata": {},
     "output_type": "execute_result"
    }
   ],
   "source": [
    "ruta = \"lob_lobbying.txt\"\n",
    "\n",
    "# Reading documents\n",
    "df_raw = pd.read_csv(\n",
    "    ruta,\n",
    "    sep=\"|\",\n",
    "    engine=\"python\",\n",
    "    header=None,\n",
    "    quoting=3,\n",
    "    encoding=\"latin1\",\n",
    "    on_bad_lines='skip'\n",
    ")\n",
    "\n",
    "# Extracting just needed columns\n",
    "col_client = 3\n",
    "col_amount = 12\n",
    "col_year = 25\n",
    "col_quarter = 27\n",
    "\n",
    "df = df_raw[[col_client, col_amount, col_year, col_quarter]].copy()\n",
    "df.columns = [\"client_name\", \"amount_raw\", \"year\", \"quarter\"]\n",
    "df[\"client_name\"] = df[\"client_name\"].astype(str).str.strip()\n",
    "\n",
    "# Cleagning usd, year and Q columns\n",
    "df[\"amount_usd\"] = df[\"amount_raw\"].astype(str).str.replace(\",\", \"\").str.strip()\n",
    "df[\"amount_usd\"] = pd.to_numeric(df[\"amount_usd\"], errors=\"coerce\")\n",
    "df[\"year\"] = pd.to_numeric(df[\"year\"].astype(str).str.extract(r\"(\\d{4})\")[0], errors=\"coerce\")\n",
    "df[\"quarter\"] = df[\"quarter\"].astype(str).str.lower().str.extract(r\"q([1-4])\", expand=False)\n",
    "df[\"quarter\"] = pd.to_numeric(df[\"quarter\"], errors=\"coerce\")\n",
    "\n",
    "# Cleaning NAs\n",
    "df = df.dropna(subset=[\"client_name\", \"amount_usd\", \"year\", \"quarter\"])\n",
    "\n",
    "# year and Q as int\n",
    "df[\"year\"] = df[\"year\"].astype(int)\n",
    "df[\"quarter\"] = df[\"quarter\"].astype(int)\n",
    "\n",
    "print(df.head())\n",
    "\n",
    "#df.to_csv(\"lobbying_limpio.csv\", index=False)\n",
    "#print(\"Saved as lobbying_limpio.csv\")\n",
    "df[\"client_name\"].nunique()"
   ]
  },
  {
   "cell_type": "code",
   "execution_count": 8,
   "id": "36a7fd1c",
   "metadata": {
    "jupyter": {
     "source_hidden": true
    }
   },
   "outputs": [
    {
     "name": "stdout",
     "output_type": "stream",
     "text": [
      "With match: 23309\n",
      "No match: 155486\n",
      "Saved lobbying_clients_unmatched.csv\n"
     ]
    }
   ],
   "source": [
    "# Uploading Keys\n",
    "\n",
    "keys = pd.read_csv(\"all_firms_keys.csv\", dtype=str)\n",
    "name_col = \"company_name\" if \"company_name\" in keys.columns else \"conm\"\n",
    "keys[\"company_name_clean\"] = keys[name_col].str.upper()\n",
    "\n",
    "# Cleaning Client Name from lobby file\n",
    "def clean_name(s):\n",
    "    if pd.isna(s): return \"\"\n",
    "    s = s.upper()\n",
    "    s = re.sub(r'\\b(CORP(ORATION)?|INC(ORPORATED)?|LTD|LLC|CO|S\\.A\\.|LP|PLC|LIMITED|THE)\\b', '', s)\n",
    "    s = re.sub(r'[^A-Z0-9& ]+', '', s)\n",
    "    s = re.sub(r'\\s+', ' ', s).strip()\n",
    "    return s\n",
    "\n",
    "df[\"client_clean\"] = df[\"client_name\"].map(clean_name)\n",
    "keys[\"company_name_clean\"] = keys[\"company_name_clean\"].map(clean_name)\n",
    "\n",
    "# Merge by excat name (cleaned name)\n",
    "df_matched = df.merge(keys[[\"gvkey\", \"company_name_clean\"]], how=\"left\",\n",
    "                      left_on=\"client_clean\", right_on=\"company_name_clean\")\n",
    "\n",
    "print(\"With match:\", df_matched[\"gvkey\"].notna().sum())\n",
    "print(\"No match:\", df_matched[\"gvkey\"].isna().sum())\n",
    "\n",
    "# Saving no matched for manual analysis \n",
    "no_match = df_matched[df_matched[\"gvkey\"].isna()][[\"client_name\", \"client_clean\"]].drop_duplicates()\n",
    "no_match.to_csv(\"lobbying_clients_unmatched.csv\", index=False)\n",
    "print(\"Saved lobbying_clients_unmatched.csv\")\n",
    "\n",
    "# ---------------------------\n",
    "# Final Lobby File with GVKEYS before Fuzzymatch\n",
    "# ---------------------------\n",
    "df_final = (df_matched.dropna(subset=[\"gvkey\"])\n",
    "                     .groupby([\"gvkey\", \"year\", \"quarter\"], as_index=False)[\"amount_usd\"]\n",
    "                     .sum()\n",
    "                     .rename(columns={\"amount_usd\": \"lobby_usd\"}))\n",
    "final_csv = df_final\n",
    "final_csv.to_csv(\"Lobby_final_gvkeys.csv\", index = False)"
   ]
  },
  {
   "cell_type": "markdown",
   "id": "90f05b67",
   "metadata": {
    "jupyter": {
     "source_hidden": true
    }
   },
   "source": [
    "#### Fuzzymatching: done in local Jupyter due to limitations in Durham hub\n",
    "\n",
    "!pip install fuzzywuzzy[speedup]\n",
    "!pip install python-Levenshtein\n",
    "!pip install pyarrow\n",
    "\n",
    "import sys\n",
    "!{sys.executable} -m pip install --user rapidfuzz\n",
    "\n",
    "import pandas as pd\n",
    "from rapidfuzz import process, fuzz\n",
    "from rapidfuzz.fuzz import token_sort_ratio\n",
    "import time\n",
    "import re\n",
    "\n",
    "##### Fuzzy matching\n",
    "df = pd.read_csv(\"lobbying_limpio.csv\", dtype=str)\n",
    "keys = pd.read_csv(\"all_firms_keys.csv\", dtype=str)\n",
    "\n",
    "def clean_name(s):\n",
    "    if pd.isna(s): return \"\"\n",
    "    s = s.upper()\n",
    "    s = re.sub(r'\\b(CORP(ORATION)?|INC(ORPORATED)?|LTD|LLC|CO|S\\.A\\.|LP|PLC|LIMITED|THE|COMPANY)\\b', '', s)\n",
    "    s = re.sub(r'[^A-Z0-9& ]+', '', s)\n",
    "    s = re.sub(r'\\s+', ' ', s).strip()\n",
    "    return s\n",
    "\n",
    "df[\"client_clean\"] = df[\"client_name\"].map(clean_name)\n",
    "keys[\"company_name_clean\"] = keys[\"company_name\"].map(clean_name)\n",
    "\n",
    "unique_clients = df[\"client_clean\"].dropna().unique()\n",
    "company_names = keys[\"company_name_clean\"].dropna().unique()\n",
    "\n",
    "matches = []\n",
    "start = time.time()\n",
    "\n",
    "for i, c in enumerate(unique_clients):\n",
    "    result = process.extract(c, company_names, scorer=token_sort_ratio, limit=2)\n",
    "    best_match, score = result[0][0], result[0][1]\n",
    "    second_score = result[1][1] if len(result) > 1 else 0\n",
    "    confidence_gap = score - second_score\n",
    "\n",
    "    matches.append({\n",
    "        \"client_clean\": c,\n",
    "        \"best_match\": best_match,\n",
    "        \"score\": score,\n",
    "        \"confidence_gap\": confidence_gap\n",
    "    })\n",
    "\n",
    "    if i % 100 == 0:\n",
    "        print(f\"Completed {i} of {len(unique_clients)}\")\n",
    "\n",
    "print(\"Time:\", round(time.time() - start, 2), \"secs\")\n",
    "\n",
    "match_df = pd.DataFrame(matches)\n",
    "\n",
    "##### Merge with gvkey\n",
    "match_df = match_df.merge(keys[[\"company_name_clean\", \"gvkey\"]],\n",
    "                          left_on=\"best_match\", right_on=\"company_name_clean\",\n",
    "                          how=\"left\")\n",
    "\n",
    "match_df.to_csv(\"match_fuzzy_all_clients.csv\", index=False)\n",
    "print(\"File saved as match_fuzzy_all_clients.csv\")\n"
   ]
  },
  {
   "cell_type": "markdown",
   "id": "6d30af25-c95b-4c5d-b5e1-6bf43dfd28db",
   "metadata": {},
   "source": [
    "#### Matching k > 90 score"
   ]
  },
  {
   "cell_type": "code",
   "execution_count": 10,
   "id": "7c0caeb4-58c5-4007-8a29-528bcf783293",
   "metadata": {
    "jupyter": {
     "source_hidden": true
    }
   },
   "outputs": [
    {
     "name": "stdout",
     "output_type": "stream",
     "text": [
      "File saved: Lobby_final_gvkeys_fuzzy.csv\n",
      "3068\n"
     ]
    }
   ],
   "source": [
    "# Loading Lobby file\n",
    "df = pd.read_csv(\"lobbying_limpio.csv\", dtype=str)\n",
    "\n",
    "# Client clean\n",
    "def clean_name(s):\n",
    "    if pd.isna(s): return \"\"\n",
    "    s = s.upper()\n",
    "    s = re.sub(r'\\b(CORP(ORATION)?|INC(ORPORATED)?|LTD|LLC|CO|S\\.A\\.|LP|PLC|LIMITED|THE)\\b', '', s)\n",
    "    s = re.sub(r'[^A-Z0-9& ]+', '', s)\n",
    "    s = re.sub(r'\\s+', ' ', s).strip()\n",
    "    return s\n",
    "\n",
    "df[\"client_clean\"] = df[\"client_name\"].map(clean_name).str.strip()\n",
    "\n",
    "# Numeric columns\n",
    "df[\"amount_usd\"] = pd.to_numeric(df[\"amount_usd\"])\n",
    "df[\"year\"] = pd.to_numeric(df[\"year\"])\n",
    "df[\"quarter\"] = pd.to_numeric(df[\"quarter\"])\n",
    "\n",
    "# Loading Fuzzy matching file\n",
    "matches = pd.read_csv(\"match_fuzzy_all_clients.csv\", dtype=str)\n",
    "matches[\"score\"] = pd.to_numeric(matches[\"score\"])\n",
    "matches[\"client_clean\"] = matches[\"client_clean\"].str.strip()\n",
    "\n",
    "# Filtering matches above 50% confidence\n",
    "matches_confident = matches[matches[\"score\"] >= 51].copy()\n",
    "\n",
    "# Merge\n",
    "df_matched = df.merge(matches_confident[[\"client_clean\", \"gvkey\"]], on=\"client_clean\", how=\"left\")\n",
    "df_matched = df_matched.dropna(subset=[\"gvkey\"])\n",
    "df_matched[\"gvkey\"] = df_matched[\"gvkey\"].astype(str)\n",
    "\n",
    "df_final = (\n",
    "    df_matched.groupby([\"gvkey\", \"year\", \"quarter\"], as_index=False)[\"amount_usd\"] # Adding lobby GVKEY and Q\n",
    "    .sum()\n",
    "    .rename(columns={\"amount_usd\": \"lobby_usd\"})\n",
    ")\n",
    "\n",
    "# log, winsor, z-score\n",
    "df_final[\"log1p_lobby\"] = np.log1p(df_final[\"lobby_usd\"])\n",
    "\n",
    "from scipy.stats.mstats import winsorize\n",
    "df_final[\"log1p_lobby_w\"] = winsorize(df_final[\"log1p_lobby\"], limits=[0.01, 0.01])\n",
    "\n",
    "df_final[\"log1p_lobby_std_firm\"] = (\n",
    "    df_final.groupby(\"gvkey\")[\"log1p_lobby_w\"]\n",
    "    .transform(lambda x: (x - x.mean()) / x.std(ddof=0))\n",
    ")\n",
    "\n",
    "df_final.to_csv(\"Lobby_final_gvkeys_fuzzy.csv\", index=False)\n",
    "print(\"File saved: Lobby_final_gvkeys_fuzzy.csv\")\n",
    "\n",
    "print (df_final[\"gvkey\"].nunique())"
   ]
  },
  {
   "cell_type": "code",
   "execution_count": 11,
   "id": "5aa4ce66-152d-4e29-bb44-65b0e393b5e6",
   "metadata": {
    "collapsed": true,
    "jupyter": {
     "outputs_hidden": true,
     "source_hidden": true
    }
   },
   "outputs": [
    {
     "name": "stdout",
     "output_type": "stream",
     "text": [
      "Firms with lobbying and in final panel: 1494\n"
     ]
    },
    {
     "name": "stderr",
     "output_type": "stream",
     "text": [
      "/tmp/ipykernel_88335/334480041.py:5: DtypeWarning: Columns (41,45,46,47) have mixed types. Specify dtype option on import or set low_memory=False.\n",
      "  panel = pd.read_csv(\"panel_volatility_with_assets_2002_2025.csv\")\n"
     ]
    }
   ],
   "source": [
    "# Checking firms with Lobby and in Final Panel\n",
    "lobby = pd.read_csv(\"Lobby_final_gvkeys_fuzzy.csv\")\n",
    "lobby[\"gvkey\"] = lobby[\"gvkey\"].astype(str)\n",
    "\n",
    "panel = pd.read_csv(\"panel_volatility_with_assets_2002_2025.csv\")\n",
    "panel[\"gvkey\"] = panel[\"gvkey\"].astype(str)\n",
    "\n",
    "# Intersection\n",
    "column_intersection = set(lobby[\"gvkey\"]).intersection(set(panel[\"gvkey\"]))\n",
    "print(\"Firms with lobbying and in final panel:\", len(column_intersection))\n"
   ]
  },
  {
   "cell_type": "markdown",
   "id": "ed27f3de-40b4-4703-a9ca-29e7c05c0062",
   "metadata": {},
   "source": [
    "#### Merge final Panel Volatility + Lobbying"
   ]
  },
  {
   "cell_type": "code",
   "execution_count": 13,
   "id": "ff31bab8-cd62-466c-a810-c449cfa608c8",
   "metadata": {
    "jupyter": {
     "source_hidden": true
    }
   },
   "outputs": [
    {
     "name": "stdout",
     "output_type": "stream",
     "text": [
      "Obs with lobbying: 25432\n",
      "Unique firms with lobbying: 1108\n"
     ]
    }
   ],
   "source": [
    "panel = pd.read_csv(\"panel_volatility_with_assets_2002_2025.csv\", low_memory=False)\n",
    "\n",
    "# Formatting columns in Panel and Lobby\n",
    "panel[\"year\"] = panel[\"quarter\"].str.extract(r\"(\\d{4})\").astype(\"Int64\")\n",
    "panel[\"quarter_num\"] = panel[\"quarter\"].str.extract(r\"Q([1-4])\").astype(\"Int64\")\n",
    "\n",
    "panel = panel.drop(columns=[\"quarter\"])\n",
    "\n",
    "panel = panel.rename(columns={\"quarter_num\": \"quarter\"})\n",
    "\n",
    "lobby = pd.read_csv(\"Lobby_final_gvkeys_fuzzy.csv\")\n",
    "panel[\"gvkey\"] = panel[\"gvkey\"].astype(str)\n",
    "lobby[\"gvkey\"] = lobby[\"gvkey\"].astype(str)\n",
    "\n",
    "panel[\"year\"] = panel[\"year\"].astype(\"Int64\")\n",
    "panel[\"quarter\"] = panel[\"quarter\"].astype(\"Int64\")\n",
    "lobby[\"year\"] = lobby[\"year\"].astype(\"Int64\")\n",
    "lobby[\"quarter\"] = lobby[\"quarter\"].astype(\"Int64\")\n",
    "\n",
    "# Merge\n",
    "panel_merged = panel.merge(lobby, on=[\"gvkey\", \"year\", \"quarter\"], how=\"left\")\n",
    "\n",
    "# Creating variables with lobbying\n",
    "panel_merged[\"lobby_usd\"] = pd.to_numeric(panel_merged[\"lobby_usd\"], errors=\"coerce\")\n",
    "panel_merged[\"log_lobby_usd\"] = np.log1p(panel_merged[\"lobby_usd\"])\n",
    "panel_merged[\"has_lobbying\"] = panel_merged[\"lobby_usd\"].notna().astype(int)\n",
    "\n",
    "# Result\n",
    "panel_merged.to_csv(\"panel_with_lobbying.csv\", index=False)\n",
    "print(\"Obs with lobbying:\", panel_merged[\"has_lobbying\"].sum())\n",
    "print(\"Unique firms with lobbying:\", panel_merged.loc[panel_merged[\"has_lobbying\"]==1, \"gvkey\"].nunique())\n"
   ]
  }
 ],
 "metadata": {
  "kernelspec": {
   "display_name": "Python 3 (ipykernel)",
   "language": "python",
   "name": "python3"
  },
  "language_info": {
   "codemirror_mode": {
    "name": "ipython",
    "version": 3
   },
   "file_extension": ".py",
   "mimetype": "text/x-python",
   "name": "python",
   "nbconvert_exporter": "python",
   "pygments_lexer": "ipython3",
   "version": "3.12.3"
  }
 },
 "nbformat": 4,
 "nbformat_minor": 5
}
